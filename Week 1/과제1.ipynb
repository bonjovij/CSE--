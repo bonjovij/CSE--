{
 "cells": [
  {
   "cell_type": "code",
   "execution_count": 2,
   "id": "200524e9",
   "metadata": {},
   "outputs": [],
   "source": [
    "import numpy as np"
   ]
  },
  {
   "cell_type": "markdown",
   "id": "24c43e7e",
   "metadata": {},
   "source": [
    "# 1-1"
   ]
  },
  {
   "cell_type": "markdown",
   "id": "b9d8111e",
   "metadata": {},
   "source": [
    "RANDOM 함수를 써서 만든 임의의 숫자 100개를 오름차순으로 정렬하세요."
   ]
  },
  {
   "cell_type": "code",
   "execution_count": 85,
   "id": "d09e982a",
   "metadata": {},
   "outputs": [
    {
     "name": "stdout",
     "output_type": "stream",
     "text": [
      "[  2   4   5   5   8  12  13  13  14  18  19  19  20  21  22  22  23  25\n",
      "  25  26  28  28  29  29  30  31  32  33  34  34  35  35  35  37  38  39\n",
      "  40  40  41  41  41  42  43  44  45  46  47  47  50  52  54  55  56  57\n",
      "  60  61  63  63  64  64  65  65  65  66  66  67  67  69  69  70  71  72\n",
      "  73  74  75  75  75  77  79  79  80  81  83  83  85  87  88  91  93  93\n",
      "  94  94  95  96  96  98  98  98  99 100]\n"
     ]
    }
   ],
   "source": [
    "list1 = np.random.randint(1,101, 100)\n",
    "list1_sorted = np.sort(list1)\n",
    "print(list1_sorted)"
   ]
  },
  {
   "cell_type": "markdown",
   "id": "3d8a79ce",
   "metadata": {},
   "source": [
    "# 1-2"
   ]
  },
  {
   "cell_type": "markdown",
   "id": "d5b7a6e2",
   "metadata": {},
   "source": [
    "임의의 두 4 x 4 matrix A, B를 생성하고, 두 matrix를 곱해 matrix C를 생성하세요. 그 이후에 기존의 공식을 사용하여 matrix C의 inverse matrix를 계산하세요. 그리고, C와 inverse C를 곱해 identity\n",
    "matrix가 나옴을 확인하세요."
   ]
  },
  {
   "cell_type": "code",
   "execution_count": 198,
   "id": "5e08f7ca",
   "metadata": {},
   "outputs": [
    {
     "name": "stdout",
     "output_type": "stream",
     "text": [
      "Matrix A\n",
      "[[-3 -3 -1 -4]\n",
      " [ 2 -2  0 -5]\n",
      " [-5  3 -3  2]\n",
      " [ 2 -3  0  2]]\n",
      "Matrix B\n",
      "[[ 3  3 -3 -4]\n",
      " [-3  0 -4  3]\n",
      " [ 4  2 -3  1]\n",
      " [-5 -3 -2  1]]\n",
      "Matrix C\n",
      "[[ 16   1  32  -2]\n",
      " [ 37  21  12 -19]\n",
      " [-46 -27   8  28]\n",
      " [  5   0   2 -15]]\n",
      "determinant: -77248.0\n",
      "Inverse Matrix C\n",
      "[[ 0.09747825 -0.16865162 -0.12756317 -0.03748964]\n",
      " [-0.13727216  0.26087407  0.16078086 -0.01201326]\n",
      " [-0.01126243  0.07327051  0.05657104  0.01429163]\n",
      " [ 0.03099109 -0.0464478  -0.03497825 -0.07725766]]\n",
      "Identity Matrix\n",
      "[[ 1.00000000e+00  2.22044605e-16 -1.66533454e-16  2.77555756e-17]\n",
      " [-4.44089210e-16  1.00000000e+00  0.00000000e+00  2.22044605e-16]\n",
      " [ 0.00000000e+00  0.00000000e+00  1.00000000e+00  0.00000000e+00]\n",
      " [ 0.00000000e+00  0.00000000e+00 -1.11022302e-16  1.00000000e+00]]\n"
     ]
    }
   ],
   "source": [
    "matA = np.random.randint(-5,5, (4,4))\n",
    "matB = np.random.randint(-5,5, (4,4))\n",
    "print(\"Matrix A\",matA, \"Matrix B\",matB, sep='\\n')\n",
    "\n",
    "# 행렬 곱\n",
    "matC = np.dot(matA, matB)\n",
    "print('Matrix C',matC,sep='\\n')\n",
    "\n",
    "\n",
    "# 역행렬\n",
    "matM = np.zeros((4, 4))\n",
    "for i in range(4):\n",
    "    for j in range(4):\n",
    "        M_int = np.delete(np.delete(matC,i, axis=0), j, axis=1)\n",
    "        matM[i,j] = M_int[0,0]*(M_int[1,1]*M_int[2,2] - M_int[1,2]*M_int[2,1]) - M_int[0,1]*(M_int[1,0]*M_int[2,2] - M_int[1,2]*M_int[2,0]) + M_int[0,2]*(M_int[1,0]*M_int[2,1] - M_int[1,1]*M_int[2,0])\n",
    "            \n",
    "det = matC[0,0] * matM[0,0] - matC[0,1] * matM[0,1] + matC[0,2] * matM[0,2] - matC[0,3] * matM[0,3]\n",
    "print('determinant:', det)\n",
    "C = np.zeros((4, 4))\n",
    "for i in range(4):\n",
    "    for j in range(4):\n",
    "        C[i,j] = matM[i,j] * (-1)**(i+j)\n",
    "\n",
    "matC_inv = 1/det * C.T\n",
    "print('Inverse Matrix C',matC_inv,sep='\\n')\n",
    "\n",
    "\n",
    "# 단위행렬\n",
    "I = np.dot(matC, matC_inv)\n",
    "print('Identity Matrix',I,sep='\\n')"
   ]
  },
  {
   "cell_type": "code",
   "execution_count": 200,
   "id": "a79aba95",
   "metadata": {},
   "outputs": [
    {
     "name": "stdout",
     "output_type": "stream",
     "text": [
      "determinant: -20.0\n",
      "Inverse Matrix C\n",
      "[[-0.25  0.5  -0.75  0.5 ]\n",
      " [ 0.   -0.    1.   -1.  ]\n",
      " [-0.   -1.   -0.    1.  ]\n",
      " [ 0.25  0.5  -0.25 -0.3 ]]\n",
      "Identity Matrix\n",
      "[[1. 0. 0. 0.]\n",
      " [0. 1. 0. 0.]\n",
      " [0. 0. 1. 0.]\n",
      " [0. 0. 0. 1.]]\n"
     ]
    }
   ],
   "source": [
    "# 역행렬\n",
    "matC= np.array([[1, 2, 3, 5],\n",
    "              [5, 5, 4, 5],\n",
    "              [5, 6, 5, 5],\n",
    "              [5, 5, 5, 5]])\n",
    "\n",
    "M = np.zeros((4, 4))\n",
    "for i in range(4):\n",
    "    for j in range(4):\n",
    "        M_int = np.delete(np.delete(matC,i, axis=0), j, axis=1)\n",
    "        M[i,j] = M_int[0,0]*(M_int[1,1]*M_int[2,2] - M_int[1,2]*M_int[2,1]) - M_int[0,1]*(M_int[1,0]*M_int[2,2] - M_int[1,2]*M_int[2,0]) + M_int[0,2]*(M_int[1,0]*M_int[2,1] - M_int[1,1]*M_int[2,0])\n",
    "            \n",
    "det = matC[0,0] * M[0,0] - matC[0,1] * M[0,1] + matC[0,2] * M[0,2] - matC[0,3] * M[0,3]\n",
    "print('determinant:', det)\n",
    "C = np.zeros((4, 4))\n",
    "for i in range(4):\n",
    "    for j in range(4):\n",
    "        C[i,j] = M[i,j] * (-1)**(i+j)\n",
    "\n",
    "matC_inv = 1/det * C.T\n",
    "print('Inverse Matrix C',matC_inv,sep='\\n')\n",
    "\n",
    "\n",
    "# 단위행렬\n",
    "I = np.dot(matC, matC_inv)\n",
    "print('Identity Matrix',I,sep='\\n')"
   ]
  },
  {
   "cell_type": "markdown",
   "id": "8732843e",
   "metadata": {},
   "source": [
    "# 2-1"
   ]
  },
  {
   "cell_type": "markdown",
   "id": "427fc2db",
   "metadata": {},
   "source": [
    "이분법(bisection method)을 사용하여 주어진 3구간 [‐10,‐1], [‐1,0] 그리고 [0,10] 에서의 𝒇(x)의\n",
    "해를 구하시오."
   ]
  },
  {
   "cell_type": "code",
   "execution_count": 11,
   "id": "ed988c88",
   "metadata": {},
   "outputs": [
    {
     "name": "stdout",
     "output_type": "stream",
     "text": [
      "[-10, -1]에서의 해: -1.3875071099027991 \n",
      " 반복 횟수: 30\n",
      "[-1, 0]에서의 해: -0.5104293450713158 \n",
      " 반복 횟수: 27\n",
      "[0, 10]에서의 해: 8.910696404054761 \n",
      " 반복 횟수: 30\n",
      "총 반복 횟수: 87\n"
     ]
    }
   ],
   "source": [
    "def func(x):\n",
    "    return x**5-9*x**4-x**3+17*x**2-8*x-8\n",
    "# [-10, -1]\n",
    "a, b = -10,-1\n",
    "count1 = 0\n",
    "\n",
    "while abs(b-a) >= 10**-8:\n",
    "    count1 += 1\n",
    "    m = (a + b) / 2\n",
    "    if func(m) * func(a) <=0:\n",
    "        b = m\n",
    "    else:\n",
    "        a = m\n",
    "\n",
    "print('[-10, -1]에서의 해:', m, '\\n 반복 횟수:', count1)\n",
    "\n",
    "# [-1, 0]\n",
    "a, b = -1,0\n",
    "count2 = 0\n",
    "\n",
    "while abs(b-a) >= 10**-8:\n",
    "    count2 += 1\n",
    "    m = (a + b) / 2\n",
    "    if func(m) * func(a) <=0:\n",
    "        b = m\n",
    "    else:\n",
    "        a = m\n",
    "\n",
    "print('[-1, 0]에서의 해:', m, '\\n 반복 횟수:', count2)\n",
    "\n",
    "# [0, 10]\n",
    "a, b = 0,10\n",
    "count3 = 0\n",
    "\n",
    "while abs(b-a) >= 10**-8:\n",
    "    count3 += 1\n",
    "    m = (a + b) / 2\n",
    "    if func(m) * func(a) <=0:\n",
    "        b = m\n",
    "    else:\n",
    "        a = m\n",
    "\n",
    "print('[0, 10]에서의 해:', m, '\\n 반복 횟수:', count3)\n",
    "\n",
    "count_bi= count1 + count2 + count3\n",
    "\n",
    "print('총 반복 횟수:', count_bi)"
   ]
  },
  {
   "cell_type": "markdown",
   "id": "61e5e1e5",
   "metadata": {},
   "source": [
    "# 2-2"
   ]
  },
  {
   "cell_type": "markdown",
   "id": "e554538f",
   "metadata": {},
   "source": [
    "뉴턴법(Newton’s method)를 사용하여 주어진 3점 𝐱𝟎 =-1,-0.1,10 에서 𝒇(x)의 해를 구하시\n",
    "오."
   ]
  },
  {
   "cell_type": "code",
   "execution_count": 12,
   "id": "5391ea15",
   "metadata": {},
   "outputs": [
    {
     "name": "stdout",
     "output_type": "stream",
     "text": [
      "x0 = -10에서의 해: -1.3875071055826167 \n",
      " 반복 횟수: 13\n",
      "x0 = -0.1에서의 해: -0.5104293428178256 \n",
      " 반복 횟수: 5\n",
      "x0 = 10에서의 해: 8.910696402960298 \n",
      " 반복 횟수: 6\n",
      "총 반복 횟수: 24\n"
     ]
    }
   ],
   "source": [
    "def func_diff(x):\n",
    "    return 5*x**4 - 36*x**3 - 3*x**2 + 34*x - 8\n",
    "\n",
    "# -10\n",
    "x0 = -10\n",
    "x1 = np.Infinity\n",
    "count1 = 0\n",
    "\n",
    "while abs(x0-x1) >= 10**-8:\n",
    "    if count1 == 0 :\n",
    "        x0 = -10\n",
    "        x1 = np.Infinity\n",
    "        \n",
    "    else:\n",
    "        x0 = x1\n",
    "    \n",
    "    x1 = x0 - func(x0)/func_diff(x0)\n",
    "    count1 += 1\n",
    "    \n",
    "print('x0 = -10에서의 해:', x1, '\\n 반복 횟수:', count1)\n",
    "\n",
    "# 0.1\n",
    "x0 = -0.1\n",
    "x1 = np.Infinity\n",
    "count2 = 0\n",
    "\n",
    "while abs(x0-x1) >= 10**-8:\n",
    "    if count2 == 0 :\n",
    "        x0 = -0.1\n",
    "        x1 = np.Infinity\n",
    "        \n",
    "    else:\n",
    "        x0 = x1\n",
    "    \n",
    "    x1 = x0 - func(x0)/func_diff(x0)\n",
    "    count2 += 1\n",
    "    \n",
    "print('x0 = -0.1에서의 해:', x1, '\\n 반복 횟수:', count2)\n",
    "\n",
    "# 10\n",
    "x0 = 10\n",
    "x1 = np.Infinity\n",
    "count3 = 0\n",
    "\n",
    "while abs(x0-x1) >= 10**-8:\n",
    "    if count3 == 0 :\n",
    "        x0 = 10\n",
    "        x1 = np.Infinity\n",
    "        \n",
    "    else:\n",
    "        x0 = x1\n",
    "    \n",
    "    x1 = x0 - func(x0)/func_diff(x0)\n",
    "    count3 += 1\n",
    "    \n",
    "print('x0 = 10에서의 해:', x1, '\\n 반복 횟수:', count3)\n",
    "\n",
    "count_new = count1 + count2 + count3\n",
    "print('총 반복 횟수:', count_new)"
   ]
  },
  {
   "cell_type": "markdown",
   "id": "7469f50e",
   "metadata": {},
   "source": [
    "# 2-3"
   ]
  },
  {
   "cell_type": "code",
   "execution_count": 13,
   "id": "4ddea594",
   "metadata": {},
   "outputs": [
    {
     "name": "stdout",
     "output_type": "stream",
     "text": [
      "-1.0\n",
      "1.0\n",
      "0.0\n",
      "-1.0\n",
      "1.0\n",
      "0.0\n",
      "-1.0\n",
      "1.0\n",
      "0.0\n",
      "-1.0\n"
     ]
    }
   ],
   "source": [
    "def func_diff(x):\n",
    "    return 5*x**4 - 36*x**3 - 3*x**2 + 34*x - 8\n",
    "\n",
    "# -10\n",
    "x0 = 0\n",
    "x1 = np.Infinity\n",
    "count1 = 0\n",
    "\n",
    "while abs(x0-x1) >= 10**-8:\n",
    "    if count1 == 0 :\n",
    "        x0 = 0\n",
    "        x1 = np.Infinity\n",
    "        \n",
    "    else:\n",
    "        x0 = x1\n",
    "\n",
    "    if count1 == 10:\n",
    "        break\n",
    "    \n",
    "    x1 = x0 - func(x0)/func_diff(x0)\n",
    "    count1 += 1\n",
    "    print(x1)\n",
    "    \n",
    "\n"
   ]
  },
  {
   "cell_type": "markdown",
   "id": "b53b015b",
   "metadata": {},
   "source": [
    "# 2-4"
   ]
  },
  {
   "cell_type": "markdown",
   "id": "65feee6c",
   "metadata": {},
   "source": [
    "시컨트법(secant method)를 사용하여 주어진 초기조건에서 𝒇(x)의 해를 구하시오.\n",
    "(1) x1 = -10, x2 = -9.9 (2) x1 = -0.1, x2 = -0.2 (3) x1 = 10, x2 = 9.9 "
   ]
  },
  {
   "cell_type": "code",
   "execution_count": 14,
   "id": "ca359a86",
   "metadata": {},
   "outputs": [
    {
     "name": "stdout",
     "output_type": "stream",
     "text": [
      "x1 = -10, x2 = -9.9에서의 해: -1.387507105582635 \n",
      " 반복 횟수: 18\n",
      "x1 = -0.1, x2 = -0.2에서의 해: -0.5104293428178256 \n",
      " 반복 횟수: 8\n",
      "x1 = 10, x2 = 9.9에서의 해: 8.910696402960298 \n",
      " 반복 횟수: 6\n",
      "총 반복 횟수: 32\n"
     ]
    }
   ],
   "source": [
    "# x1 = -10, x2 = -9.9\n",
    "x1 = -10\n",
    "x2 = - 9.9\n",
    "count1 = 0\n",
    "\n",
    "while abs(x2-x1) >= 10**-8:\n",
    "    \n",
    "    x3 = x2 - func(x2)*((x2 - x1) / (func(x2) - func(x1)))\n",
    "    x1 = x2\n",
    "    x2 = x3\n",
    "    count1 += 1\n",
    "\n",
    "print('x1 = -10, x2 = -9.9에서의 해:', x2, '\\n 반복 횟수:', count1)\n",
    "# x1 = -0.1, x2 = -0.2\n",
    "x1 = -0.1\n",
    "x2 = - -0.2\n",
    "count2 = 0\n",
    "\n",
    "while abs(x2-x1) >= 10**-8:\n",
    "    \n",
    "    x3 = x2 - func(x2)*((x2 - x1) / (func(x2) - func(x1)))\n",
    "    x1 = x2\n",
    "    x2 = x3\n",
    "    count2 += 1\n",
    "\n",
    "print('x1 = -0.1, x2 = -0.2에서의 해:', x2, '\\n 반복 횟수:', count2)\n",
    "# x1 = 10, x2 = 9.9\n",
    "x1 = 10\n",
    "x2 = - 9.9\n",
    "count3 = 0\n",
    "\n",
    "while abs(x2-x1) >= 10**-8:\n",
    "    \n",
    "    x3 = x2 - func(x2)*((x2 - x1) / (func(x2) - func(x1)))\n",
    "    x1 = x2\n",
    "    x2 = x3\n",
    "    count3 += 1\n",
    "\n",
    "print('x1 = 10, x2 = 9.9에서의 해:', x2, '\\n 반복 횟수:', count3)\n",
    "\n",
    "count_sec = count1 + count2 + count3\n",
    "print('총 반복 횟수:', count_sec)"
   ]
  },
  {
   "cell_type": "markdown",
   "id": "3e515584",
   "metadata": {},
   "source": [
    "# 2-5"
   ]
  },
  {
   "cell_type": "markdown",
   "id": "c0658b5f",
   "metadata": {},
   "source": [
    "이분법, 뉴턴법, 시컨트법에 대한 계산을 진행하고, 몇 번의 반복계산 후에 해를 구하였는지 서\n",
    "술하시오."
   ]
  },
  {
   "cell_type": "code",
   "execution_count": 15,
   "id": "e1948dc2",
   "metadata": {},
   "outputs": [
    {
     "name": "stdout",
     "output_type": "stream",
     "text": [
      "이분법 시행 횟수: 87\n",
      "뉴턴법 시행 횟수: 24\n",
      "시컨트법 시행 횟수: 32\n"
     ]
    }
   ],
   "source": [
    "print('이분법 시행 횟수:', count_bi)\n",
    "print('뉴턴법 시행 횟수:', count_new)\n",
    "print('시컨트법 시행 횟수:', count_sec)"
   ]
  }
 ],
 "metadata": {
  "kernelspec": {
   "display_name": "base",
   "language": "python",
   "name": "python3"
  },
  "language_info": {
   "codemirror_mode": {
    "name": "ipython",
    "version": 3
   },
   "file_extension": ".py",
   "mimetype": "text/x-python",
   "name": "python",
   "nbconvert_exporter": "python",
   "pygments_lexer": "ipython3",
   "version": "3.11.7"
  }
 },
 "nbformat": 4,
 "nbformat_minor": 5
}
